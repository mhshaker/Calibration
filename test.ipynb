{
 "cells": [],
 "metadata": {
  "kernelspec": {
   "display_name": "Python 3.8.10 ('Calibration-6g0BSw3E')",
   "language": "python",
   "name": "python3"
  },
  "language_info": {
   "codemirror_mode": {
    "name": "ipython",
    "version": 3
   },
   "file_extension": ".py",
   "mimetype": "text/x-python",
   "name": "python",
   "nbconvert_exporter": "python",
   "pygments_lexer": "ipython3",
   "version": "3.8.10"
  },
  "orig_nbformat": 4,
  "vscode": {
   "interpreter": {
    "hash": "8c50fe48504b01d5b6c186191f0c606873c2a89e6c6e4550beb359d9d6e610fa"
   }
  }
 },
 "nbformat": 4,
 "nbformat_minor": 2
}
