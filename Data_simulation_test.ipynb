{
 "cells": [
  {
   "cell_type": "code",
   "execution_count": 325,
   "metadata": {},
   "outputs": [],
   "source": [
    "import numpy as np\n",
    "from sklearn.ensemble import RandomForestClassifier\n",
    "from sklearn.model_selection import train_test_split\n",
    "import matplotlib.pyplot as plt\n",
    "from matplotlib.pyplot import figure\n",
    "import matplotlib\n",
    "from sklearn.model_selection import StratifiedKFold, GridSearchCV\n",
    "from dirichletcal.calib.fulldirichlet import FullDirichletCalibrator\n",
    "from sklearn.calibration import CalibratedClassifierCV\n",
    "from sklearn import tree\n",
    "import CalibrationM as calibm\n",
    "import warnings\n",
    "import Uncertainty as unc\n",
    "import UncertaintyM as uncM\n",
    "\n",
    "warnings.filterwarnings(\"ignore\")\n",
    "\n",
    "seed = 1\n",
    "np.random.seed(seed)\n",
    "calibration_method = \"isotonic\""
   ]
  },
  {
   "cell_type": "markdown",
   "metadata": {},
   "source": [
    "# Data creation"
   ]
  },
  {
   "cell_type": "code",
   "execution_count": 326,
   "metadata": {},
   "outputs": [
    {
     "data": {
      "text/plain": [
       "[<matplotlib.lines.Line2D at 0x7fcdefe21790>,\n",
       " <matplotlib.lines.Line2D at 0x7fcdefe217c0>]"
      ]
     },
     "execution_count": 326,
     "metadata": {},
     "output_type": "execute_result"
    },
    {
     "data": {
      "image/png": "[encoded data removed]",
      "text/plain": [
       "<Figure size 2400x240 with 1 Axes>"
      ]
     },
     "metadata": {
      "needs_background": "light"
     },
     "output_type": "display_data"
    }
   ],
   "source": [
    "\n",
    "data_size = 500\n",
    "\n",
    "x = np.random.uniform(low=0, high=3, size=(data_size,))\n",
    "y = np.where(x<1, 0, np.where(x>2, 1, 1/2))\n",
    "mid_index = np.argwhere(y==1/2)\n",
    "mid_index = mid_index.reshape(-1)\n",
    "rand_y = np.random.binomial(size=len(mid_index), n=1, p= 0.5)\n",
    "y[mid_index] = rand_y\n",
    "x = x.reshape(-1,1)\n",
    "\n",
    "x_train, x_test_all, y_train, y_test_all = train_test_split(x, y, test_size=0.4, shuffle=True, random_state=seed)\n",
    "x_test, x_calib, y_test, y_calib = train_test_split(x_test_all, y_test_all, test_size=0.5, shuffle=True, random_state=seed) \n",
    "\n",
    "figure(figsize=(30, 3), dpi=80)\n",
    "# plt.plot(x, np.zeros_like(x), \"x\", color=\"y\")\n",
    "colors = ['red','black']\n",
    "plt.scatter(x, np.full(len(x), \"Add Data\"), c=y, cmap=matplotlib.colors.ListedColormap(colors))\n",
    "x1, y1 = [1, 1], [1, -1]\n",
    "x2, y2 = [2, 2], [1, -1]\n",
    "plt.plot(x1, y1, x2, y2, c=\"gray\")"
   ]
  },
  {
   "cell_type": "code",
   "execution_count": 327,
   "metadata": {},
   "outputs": [],
   "source": [
    "# optimal prob\n",
    "from math import nan\n",
    "\n",
    "def opt_prob(threshold, x):\n",
    "    p_a_0 = 1\n",
    "    p_b_0 = 1/2\n",
    "    p_c_0 = 0\n",
    "\n",
    "    p_a_1 = 0\n",
    "    p_b_1 = 1/2\n",
    "    p_c_1 = 1\n",
    "\n",
    "    # checking the un defined boundaries\n",
    "    if threshold < 0: \n",
    "        return nan\n",
    "    if threshold > 3:\n",
    "        return nan\n",
    "\n",
    "    # calculating the length of each section\n",
    "    if threshold <= 1:\n",
    "        a = threshold\n",
    "        b = 0\n",
    "        c = 0    \n",
    "    if 1 < threshold <= 2:\n",
    "        a = 1\n",
    "        b = threshold - 1\n",
    "        c = 0    \n",
    "    if 2 < threshold <= 3:\n",
    "        a = 1\n",
    "        b = 1\n",
    "        c = threshold - 2\n",
    "\n",
    "    if x >= threshold:\n",
    "        a = 1 - a\n",
    "        b = 1 - b\n",
    "        c = 1 - c\n",
    "\n",
    "        threshold = 3 - threshold\n",
    "    # print(\"side \", x)\n",
    "    # print(\"a \", a)\n",
    "    # print(\"b \", b)\n",
    "    # print(\"c \", c)\n",
    "    prob_1 = (a * p_a_1 + b * p_b_1 + c * p_c_1) / threshold # Probability of class one on the left side of the threshold ( here threshold is threshold)\n",
    "    prob_0 = (a * p_a_0 + b * p_b_0 + c * p_c_0) / threshold # Probability of class zero on the left side of the threshold\n",
    "\n",
    "    return prob_0, prob_1"
   ]
  },
  {
   "cell_type": "code",
   "execution_count": 328,
   "metadata": {},
   "outputs": [
    {
     "data": {
      "text/plain": [
       "(0.75, 0.25)"
      ]
     },
     "execution_count": 328,
     "metadata": {},
     "output_type": "execute_result"
    }
   ],
   "source": [
    "opt_prob(2, 1.8) # It does not mater if x moves in a section, the prob will only change if x changes section. Prob will always change if the threshold changes."
   ]
  },
  {
   "cell_type": "markdown",
   "metadata": {},
   "source": [
    "# Model: Decision stump ensembel"
   ]
  },
  {
   "cell_type": "code",
   "execution_count": 329,
   "metadata": {},
   "outputs": [],
   "source": [
    "model = RandomForestClassifier(max_depth=1, n_estimators=2, random_state=seed)\n",
    "model.fit(x_train, y_train)\n",
    "predictions_x_test = model.predict(x_test)\n",
    "prob_x_test = model.predict_proba(x_test)\n",
    "prob_x_calib = model.predict_proba(x_calib)"
   ]
  },
  {
   "cell_type": "markdown",
   "metadata": {},
   "source": [
    "# Member calibration"
   ]
  },
  {
   "cell_type": "code",
   "execution_count": 330,
   "metadata": {},
   "outputs": [
    {
     "name": "stdout",
     "output_type": "stream",
     "text": [
      "Tree [0] threshold 1.8251209259033203\n",
      "Normal          ECE 0.04568914956011731  [0.01612903 0.84090909]\n",
      "calibration iso ECE 0.10211853720050448  [0.15384615 0.73770492]\n",
      "optimal prob [0.07442428669994723, 0.7739544503071935]\n",
      "------------------------------------\n",
      "Tree [1] threshold 1.0395949482917786\n",
      "Normal          ECE 0.1002105263157895  [0.23157895 1.        ]\n",
      "calibration iso ECE 0.10696969696969699  [0.25757576 1.        ]\n",
      "optimal prob [0.24495066743257, 0.9809565502617922]\n",
      "------------------------------------\n"
     ]
    },
    {
     "data": {
      "text/plain": [
       "[<matplotlib.lines.Line2D at 0x7fcdefd18550>,\n",
       " <matplotlib.lines.Line2D at 0x7fcdefd18580>]"
      ]
     },
     "execution_count": 330,
     "metadata": {},
     "output_type": "execute_result"
    },
    {
     "data": {
      "image/png": "[encoded data removed]",
      "text/plain": [
       "<Figure size 2400x240 with 1 Axes>"
      ]
     },
     "metadata": {
      "needs_background": "light"
     },
     "output_type": "display_data"
    }
   ],
   "source": [
    "thresholds = []\n",
    "figure(figsize=(30, 3), dpi=80)\n",
    "\n",
    "for est_index, estimator in enumerate(model.estimators_):\n",
    "    # tree.plot_tree(estimator)\n",
    "    tree_threshold = estimator.tree_.threshold[0]\n",
    "    tree_prob_x_test = estimator.predict_proba(x_test)\n",
    "\n",
    "    # print(tree_prob_x_test)\n",
    "    \n",
    "    print(f\"Tree [{est_index}] threshold {tree_threshold}\")\n",
    "    print(f\"Normal          ECE {calibm.confidance_ECE(tree_prob_x_test, y_test)} \", np.unique(tree_prob_x_test[:,0]))\n",
    "\n",
    "    # Full Dirichlet\n",
    "    if calibration_method == \"isotonic\":\n",
    "        model_calib = CalibratedClassifierCV(estimator, cv=\"prefit\", method=calibration_method) # cv=30\n",
    "        model_calib.fit(x_calib , y_calib)\n",
    "        tree_prob_x_test_calib = model_calib.predict_proba(x_test)\n",
    "\n",
    "        print(f\"calibration iso ECE {calibm.confidance_ECE(tree_prob_x_test_calib, y_test)} \", np.unique(tree_prob_x_test_calib[:,0]))\n",
    "\n",
    "    if calibration_method == \"Dir\":\n",
    "        skf = StratifiedKFold(n_splits=3, shuffle=True, random_state=0)\n",
    "        reg = [1e-1, 1e-2, 1e-3, 1e-4, 1e-5]\n",
    "        calibrator = FullDirichletCalibrator(reg_lambda=reg, reg_mu=None)\n",
    "        dir_calib = GridSearchCV(calibrator, param_grid={'reg_lambda':  reg, 'reg_mu': [None]}, cv=skf, scoring='neg_log_loss')\n",
    "        dir_calib.fit(prob_x_calib , y_calib)\n",
    "        tree_prob_x_test_calib = dir_calib.predict_proba(tree_prob_x_test)\n",
    "        \n",
    "        print(f\"calibration dir ECE {calibm.confidance_ECE(tree_prob_x_test_calib, y_test)} \", np.unique(tree_prob_x_test_calib[:,0]))\n",
    "\n",
    "    # optimal prob\n",
    "    thresholds.append(tree_threshold)\n",
    "    o_p_pos_r, _ = opt_prob(tree_threshold, tree_threshold + 0.1)\n",
    "    o_p_pos_l, _ = opt_prob(tree_threshold, tree_threshold - 0.1)\n",
    "    print(f\"optimal prob [{o_p_pos_r}, {o_p_pos_l}]\")\n",
    "    print(\"------------------------------------\")\n",
    "\n",
    "    plt.plot([tree_threshold,tree_threshold], [3,-1], c=\"blue\")\n",
    "    plt.annotate(est_index, (tree_threshold+0.01, -1))\n",
    "\n",
    "plt.scatter(x_train, np.full(len(x_train), \"Train\"), c=y_train, cmap=matplotlib.colors.ListedColormap(colors))\n",
    "# for i, txt in enumerate(np.ones(len(x_train))): # attempt to label the training data of each tree in the RF (plot works but cannot access the training subsets)\n",
    "#     plt.annotate(int(txt), (x_train[i], \"Train\"))\n",
    "\n",
    "plt.scatter(x_calib, np.full(len(x_calib), \"Calibration\"), c=y_calib, cmap=matplotlib.colors.ListedColormap(colors))\n",
    "plt.scatter(x_test, np.full(len(x_test), \"Test\"), c=y_test, cmap=matplotlib.colors.ListedColormap(colors))\n",
    "x1, y1 = [1, 1], [3, -1]\n",
    "x2, y2 = [2, 2], [3, -1]\n",
    "plt.plot(x1, y1, x2, y2, c=\"gray\")"
   ]
  },
  {
   "cell_type": "markdown",
   "metadata": {},
   "source": [
    "# Ens Calibration"
   ]
  },
  {
   "cell_type": "code",
   "execution_count": 331,
   "metadata": {},
   "outputs": [
    {
     "name": "stdout",
     "output_type": "stream",
     "text": [
      "Normal          ECE 0.09490723877141537 [0.12385399 0.53624402 0.92045455]\n",
      "calibration iso ECE 0.11435897435897438  [0.15384615 0.40740741 1.        ]\n"
     ]
    }
   ],
   "source": [
    "print(f\"Normal          ECE {calibm.confidance_ECE(prob_x_test, y_test)} {np.unique(prob_x_test[:,0])}\")\n",
    "\n",
    "if calibration_method == \"isotonic\":\n",
    "    model_calib = CalibratedClassifierCV(model, cv=\"prefit\", method=calibration_method) # cv=30\n",
    "    model_calib.fit(x_calib , y_calib)\n",
    "    prob_x_test_calib = model_calib.predict_proba(x_test)\n",
    "\n",
    "    print(f\"calibration iso ECE {calibm.confidance_ECE(prob_x_test_calib, y_test)} \", np.unique(prob_x_test_calib[:,0]))\n",
    "\n",
    "# Full Dirichlet\n",
    "if calibration_method == \"Dir\":\n",
    "    skf = StratifiedKFold(n_splits=3, shuffle=True, random_state=0)\n",
    "    reg = [1e-1, 1e-2, 1e-3, 1e-4, 1e-5]\n",
    "    calibrator = FullDirichletCalibrator(reg_lambda=reg, reg_mu=None)\n",
    "    dir_calib = GridSearchCV(calibrator, param_grid={'reg_lambda':  reg, 'reg_mu': [None]}, cv=skf, scoring='neg_log_loss')\n",
    "    dir_calib.fit(prob_x_calib , y_calib)\n",
    "    prob_x_test_calib = dir_calib.predict_proba(prob_x_test)\n",
    "\n",
    "    print(f\"calibration dir ECE {calibm.confidance_ECE(prob_x_test_calib, y_test)} \", np.unique(prob_x_test_calib[:,0]))\n"
   ]
  },
  {
   "cell_type": "markdown",
   "metadata": {},
   "source": [
    "# ECE calculation"
   ]
  },
  {
   "cell_type": "code",
   "execution_count": 332,
   "metadata": {},
   "outputs": [
    {
     "name": "stdout",
     "output_type": "stream",
     "text": [
      "[0.11200771724031484, 0.09408427226423831]\n",
      "0.09490723877141537\n"
     ]
    }
   ],
   "source": [
    "normal_cw_ece = calibm.classwise_ECE(prob_x_test, y_test)\n",
    "normal_conf_ece = calibm.confidance_ECE(prob_x_test, y_test)\n",
    "\n",
    "print(normal_cw_ece)\n",
    "print(normal_conf_ece)"
   ]
  },
  {
   "cell_type": "markdown",
   "metadata": {},
   "source": [
    "# Uncertainty"
   ]
  },
  {
   "cell_type": "code",
   "execution_count": 333,
   "metadata": {},
   "outputs": [],
   "source": [
    "# unc Q id\n",
    "tu, eu, au = unc.model_uncertainty(model, x_test, x_train, y_train, laplace_smoothing=1)\n",
    "tumc, eumc, aumc, porb_matrix = unc.calib_ens_member_uncertainty(model, x_test, y_test, x_train, y_train, x_calib, y_calib, calibration_method, seed)\n",
    "tuc = unc.calib_ens_total_uncertainty(prob_x_test_calib)"
   ]
  },
  {
   "cell_type": "markdown",
   "metadata": {},
   "source": [
    "# true prob for each x_test and true aleatoric uncertianty"
   ]
  },
  {
   "cell_type": "code",
   "execution_count": 334,
   "metadata": {},
   "outputs": [],
   "source": [
    "prob_x_test_true = []\n",
    "\n",
    "for x in x_test:\n",
    "    for threshold in thresholds:\n",
    "        p_0, p_1 = opt_prob(threshold, x)\n",
    "        prob_x_test_true.append([p_0, p_1])\n",
    "\n",
    "prob_x_test_true = np.array(prob_x_test_true).reshape(len(x_test), len(thresholds), 2) # D1 data D2 ens member D3 class prob\n",
    "\n",
    "# uncertainty for true prob\n",
    "tuo, euo, auo = uncM.uncertainty_ent_bays(prob_x_test_true, np.full(len(thresholds), 1/len(thresholds)))"
   ]
  },
  {
   "cell_type": "code",
   "execution_count": 335,
   "metadata": {},
   "outputs": [
    {
     "data": {
      "text/html": [
       "<div>\n",
       "<style scoped>\n",
       "    .dataframe tbody tr th:only-of-type {\n",
       "        vertical-align: middle;\n",
       "    }\n",
       "\n",
       "    .dataframe tbody tr th {\n",
       "        vertical-align: top;\n",
       "    }\n",
       "\n",
       "    .dataframe thead th {\n",
       "        text-align: right;\n",
       "    }\n",
       "</style>\n",
       "<table border=\"1\" class=\"dataframe\">\n",
       "  <thead>\n",
       "    <tr style=\"text-align: right;\">\n",
       "      <th></th>\n",
       "      <th>x</th>\n",
       "      <th>n_prob</th>\n",
       "      <th>c_prob</th>\n",
       "      <th>o_prob</th>\n",
       "      <th>a_unc</th>\n",
       "      <th>a_unc_c</th>\n",
       "      <th>a_unc_o</th>\n",
       "    </tr>\n",
       "  </thead>\n",
       "  <tbody>\n",
       "    <tr>\n",
       "      <th>0</th>\n",
       "      <td>0.792892</td>\n",
       "      <td>0.920455</td>\n",
       "      <td>1.000000</td>\n",
       "      <td>0.877456</td>\n",
       "      <td>0.363378</td>\n",
       "      <td>0.423796</td>\n",
       "      <td>0.453545</td>\n",
       "    </tr>\n",
       "    <tr>\n",
       "      <th>1</th>\n",
       "      <td>0.771355</td>\n",
       "      <td>0.920455</td>\n",
       "      <td>1.000000</td>\n",
       "      <td>0.877456</td>\n",
       "      <td>0.363378</td>\n",
       "      <td>0.423796</td>\n",
       "      <td>0.453545</td>\n",
       "    </tr>\n",
       "    <tr>\n",
       "      <th>2</th>\n",
       "      <td>0.977969</td>\n",
       "      <td>0.920455</td>\n",
       "      <td>1.000000</td>\n",
       "      <td>0.877456</td>\n",
       "      <td>0.363378</td>\n",
       "      <td>0.423796</td>\n",
       "      <td>0.453545</td>\n",
       "    </tr>\n",
       "    <tr>\n",
       "      <th>3</th>\n",
       "      <td>2.948451</td>\n",
       "      <td>0.123854</td>\n",
       "      <td>0.153846</td>\n",
       "      <td>0.159687</td>\n",
       "      <td>0.467411</td>\n",
       "      <td>0.719089</td>\n",
       "      <td>0.592699</td>\n",
       "    </tr>\n",
       "    <tr>\n",
       "      <th>4</th>\n",
       "      <td>0.880842</td>\n",
       "      <td>0.920455</td>\n",
       "      <td>1.000000</td>\n",
       "      <td>0.877456</td>\n",
       "      <td>0.363378</td>\n",
       "      <td>0.423796</td>\n",
       "      <td>0.453545</td>\n",
       "    </tr>\n",
       "    <tr>\n",
       "      <th>...</th>\n",
       "      <td>...</td>\n",
       "      <td>...</td>\n",
       "      <td>...</td>\n",
       "      <td>...</td>\n",
       "      <td>...</td>\n",
       "      <td>...</td>\n",
       "      <td>...</td>\n",
       "    </tr>\n",
       "    <tr>\n",
       "      <th>95</th>\n",
       "      <td>1.871017</td>\n",
       "      <td>0.123854</td>\n",
       "      <td>0.153846</td>\n",
       "      <td>0.159687</td>\n",
       "      <td>0.467411</td>\n",
       "      <td>0.719089</td>\n",
       "      <td>0.592699</td>\n",
       "    </tr>\n",
       "    <tr>\n",
       "      <th>96</th>\n",
       "      <td>2.133367</td>\n",
       "      <td>0.123854</td>\n",
       "      <td>0.153846</td>\n",
       "      <td>0.159687</td>\n",
       "      <td>0.467411</td>\n",
       "      <td>0.719089</td>\n",
       "      <td>0.592699</td>\n",
       "    </tr>\n",
       "    <tr>\n",
       "      <th>97</th>\n",
       "      <td>2.138967</td>\n",
       "      <td>0.123854</td>\n",
       "      <td>0.153846</td>\n",
       "      <td>0.159687</td>\n",
       "      <td>0.467411</td>\n",
       "      <td>0.719089</td>\n",
       "      <td>0.592699</td>\n",
       "    </tr>\n",
       "    <tr>\n",
       "      <th>98</th>\n",
       "      <td>2.241365</td>\n",
       "      <td>0.123854</td>\n",
       "      <td>0.153846</td>\n",
       "      <td>0.159687</td>\n",
       "      <td>0.467411</td>\n",
       "      <td>0.719089</td>\n",
       "      <td>0.592699</td>\n",
       "    </tr>\n",
       "    <tr>\n",
       "      <th>99</th>\n",
       "      <td>0.440268</td>\n",
       "      <td>0.920455</td>\n",
       "      <td>1.000000</td>\n",
       "      <td>0.877456</td>\n",
       "      <td>0.363378</td>\n",
       "      <td>0.423796</td>\n",
       "      <td>0.453545</td>\n",
       "    </tr>\n",
       "  </tbody>\n",
       "</table>\n",
       "<p>100 rows × 7 columns</p>\n",
       "</div>"
      ],
      "text/plain": [
       "           x    n_prob    c_prob    o_prob     a_unc   a_unc_c   a_unc_o\n",
       "0   0.792892  0.920455  1.000000  0.877456  0.363378  0.423796  0.453545\n",
       "1   0.771355  0.920455  1.000000  0.877456  0.363378  0.423796  0.453545\n",
       "2   0.977969  0.920455  1.000000  0.877456  0.363378  0.423796  0.453545\n",
       "3   2.948451  0.123854  0.153846  0.159687  0.467411  0.719089  0.592699\n",
       "4   0.880842  0.920455  1.000000  0.877456  0.363378  0.423796  0.453545\n",
       "..       ...       ...       ...       ...       ...       ...       ...\n",
       "95  1.871017  0.123854  0.153846  0.159687  0.467411  0.719089  0.592699\n",
       "96  2.133367  0.123854  0.153846  0.159687  0.467411  0.719089  0.592699\n",
       "97  2.138967  0.123854  0.153846  0.159687  0.467411  0.719089  0.592699\n",
       "98  2.241365  0.123854  0.153846  0.159687  0.467411  0.719089  0.592699\n",
       "99  0.440268  0.920455  1.000000  0.877456  0.363378  0.423796  0.453545\n",
       "\n",
       "[100 rows x 7 columns]"
      ]
     },
     "execution_count": 335,
     "metadata": {},
     "output_type": "execute_result"
    }
   ],
   "source": [
    "import pandas as pd\n",
    "\n",
    "opt_p = prob_x_test_true.mean(axis=1)\n",
    "\n",
    "data = np.concatenate((x_test, prob_x_test[:,0].reshape(-1,1), prob_x_test_calib[:,0].reshape(-1,1), opt_p[:,0].reshape(-1,1), au.reshape(-1,1), aumc.reshape(-1,1), auo.reshape(-1,1)), axis=1)\n",
    "data_df = pd.DataFrame(data, columns=[\"x\", \"n_prob\", \"c_prob\", \"o_prob\", \"a_unc\", \"a_unc_c\", \"a_unc_o\"])\n",
    "data_df"
   ]
  },
  {
   "cell_type": "markdown",
   "metadata": {},
   "source": [
    "# order of x_test based on uncertainties"
   ]
  },
  {
   "cell_type": "code",
   "execution_count": 336,
   "metadata": {},
   "outputs": [
    {
     "name": "stdout",
     "output_type": "stream",
     "text": [
      "order_comparison uncalibrated and calibrated 1.0\n",
      "order_comparison calibrated and optimal 1.0\n"
     ]
    }
   ],
   "source": [
    "comp, comp_p = uncM.order_comparison([au], [aumc])\n",
    "print(f\"order_comparison uncalibrated and calibrated {comp}\")\n",
    "\n",
    "comp, comp_p = uncM.order_comparison([aumc], [auo])\n",
    "print(f\"order_comparison calibrated and optimal {comp}\")\n"
   ]
  },
  {
   "cell_type": "code",
   "execution_count": 337,
   "metadata": {},
   "outputs": [
    {
     "name": "stdout",
     "output_type": "stream",
     "text": [
      "Area under: \n",
      "uncalibrated AU  0.7755681818181819\n",
      "calibrated   AU  0.7755681818181819\n",
      "optimal      AU  0.7755681818181819\n"
     ]
    }
   ],
   "source": [
    "print(\"Area under: \")\n",
    "print(\"uncalibrated AU \", uncM.unc_auroc(predictions_x_test, y_test, au))\n",
    "print(\"calibrated   AU \", uncM.unc_auroc(predictions_x_test, y_test, aumc))\n",
    "print(\"optimal      AU \", uncM.unc_auroc(predictions_x_test, y_test, auo))\n"
   ]
  }
 ],
 "metadata": {
  "kernelspec": {
   "display_name": "Python 3.8.10 ('Calibration-6g0BSw3E')",
   "language": "python",
   "name": "python3"
  },
  "language_info": {
   "codemirror_mode": {
    "name": "ipython",
    "version": 3
   },
   "file_extension": ".py",
   "mimetype": "text/x-python",
   "name": "python",
   "nbconvert_exporter": "python",
   "pygments_lexer": "ipython3",
   "version": "3.8.10"
  },
  "orig_nbformat": 4,
  "vscode": {
   "interpreter": {
    "hash": "8c50fe48504b01d5b6c186191f0c606873c2a89e6c6e4550beb359d9d6e610fa"
   }
  }
 },
 "nbformat": 4,
 "nbformat_minor": 2
}
