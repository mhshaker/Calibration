{
 "cells": [
  {
   "cell_type": "code",
   "execution_count": 12,
   "metadata": {},
   "outputs": [],
   "source": [
    "import numpy as np\n",
    "from sklearn.ensemble import RandomForestClassifier\n",
    "from sklearn.model_selection import train_test_split\n",
    "import matplotlib.pyplot as plt\n",
    "from matplotlib.pyplot import figure\n",
    "import matplotlib\n",
    "from sklearn.model_selection import StratifiedKFold, GridSearchCV\n",
    "from dirichletcal.calib.fulldirichlet import FullDirichletCalibrator\n",
    "from sklearn.calibration import CalibratedClassifierCV\n",
    "from sklearn import tree\n",
    "import CalibrationM as calibm\n",
    "import warnings\n",
    "import Uncertainty as unc\n",
    "import UncertaintyM as uncM\n",
    "\n",
    "warnings.filterwarnings(\"ignore\")\n",
    "\n",
    "seed = 1\n",
    "np.random.seed(seed)\n",
    "calibration_method = \"isotonic\""
   ]
  },
  {
   "cell_type": "markdown",
   "metadata": {},
   "source": [
    "# Data creation"
   ]
  },
  {
   "cell_type": "code",
   "execution_count": 3,
   "metadata": {},
   "outputs": [
    {
     "data": {
      "text/plain": [
       "[<matplotlib.lines.Line2D at 0x7f93706e2040>,\n",
       " <matplotlib.lines.Line2D at 0x7f93706e2070>]"
      ]
     },
     "execution_count": 3,
     "metadata": {},
     "output_type": "execute_result"
    },
    {
     "data": {
      "image/png": "[encoded data removed]",
      "text/plain": [
       "<Figure size 2400x240 with 1 Axes>"
      ]
     },
     "metadata": {
      "needs_background": "light"
     },
     "output_type": "display_data"
    }
   ],
   "source": [
    "\n",
    "data_size = 100\n",
    "\n",
    "x = np.random.uniform(low=0, high=3, size=(data_size,))\n",
    "y = np.where(x<1, 0, np.where(x>2, 1, 1/2))\n",
    "mid_index = np.argwhere(y==1/2)\n",
    "mid_index = mid_index.reshape(-1)\n",
    "rand_y = np.random.binomial(size=len(mid_index), n=1, p= 0.5)\n",
    "y[mid_index] = rand_y\n",
    "x = x.reshape(-1,1)\n",
    "\n",
    "x_train, x_test_all, y_train, y_test_all = train_test_split(x, y, test_size=0.4, shuffle=True, random_state=seed)\n",
    "x_test, x_calib, y_test, y_calib = train_test_split(x_test_all, y_test_all, test_size=0.5, shuffle=True, random_state=seed) \n",
    "\n",
    "figure(figsize=(30, 3), dpi=80)\n",
    "# plt.plot(x, np.zeros_like(x), \"x\", color=\"y\")\n",
    "colors = ['red','black']\n",
    "plt.scatter(x, np.full(len(x), \"Add Data\"), c=y, cmap=matplotlib.colors.ListedColormap(colors))\n",
    "x1, y1 = [1, 1], [1, -1]\n",
    "x2, y2 = [2, 2], [1, -1]\n",
    "plt.plot(x1, y1, x2, y2, c=\"gray\")"
   ]
  },
  {
   "cell_type": "code",
   "execution_count": 51,
   "metadata": {},
   "outputs": [],
   "source": [
    "# optimal prob\n",
    "from math import nan\n",
    "\n",
    "def opt_prob(x, threshold_side=\"left\"):\n",
    "    p_a_0 = 1\n",
    "    p_b_0 = 1/2\n",
    "    p_c_0 = 0\n",
    "\n",
    "    p_a_1 = 0\n",
    "    p_b_1 = 1/2\n",
    "    p_c_1 = 1\n",
    "\n",
    "    # checking the un defined boundaries\n",
    "    if x < 0: \n",
    "        return nan\n",
    "    if x > 3:\n",
    "        return nan\n",
    "\n",
    "    # calculating the length of each section\n",
    "    if x <= 1:\n",
    "        a = x\n",
    "        b = 0\n",
    "        c = 0    \n",
    "    if 1 < x <= 2:\n",
    "        a = 1\n",
    "        b = x - 1\n",
    "        c = 0    \n",
    "    if 2 < x <= 3:\n",
    "        a = 1\n",
    "        b = 1\n",
    "        c = x - 2\n",
    "\n",
    "    if threshold_side == \"right\":\n",
    "        a = 1 - a\n",
    "        b = 1 - b\n",
    "        c = 1 - c\n",
    "\n",
    "        x = 3 - x\n",
    "    # print(\"side \", threshold_side)\n",
    "    # print(\"a \", a)\n",
    "    # print(\"b \", b)\n",
    "    # print(\"c \", c)\n",
    "    prob_1 = (a * p_a_1 + b * p_b_1 + c * p_c_1) / x # Probability of class one on the left side of the threshold ( here threshold is x)\n",
    "    prob_0 = (a * p_a_0 + b * p_b_0 + c * p_c_0) / x # Probability of class zero on the left side of the threshold\n",
    "\n",
    "    return prob_0, prob_1"
   ]
  },
  {
   "cell_type": "code",
   "execution_count": 52,
   "metadata": {},
   "outputs": [
    {
     "data": {
      "text/plain": [
       "(0.16666666666666666, 0.8333333333333334)"
      ]
     },
     "execution_count": 52,
     "metadata": {},
     "output_type": "execute_result"
    }
   ],
   "source": [
    "opt_prob(1.5, \"right\")"
   ]
  },
  {
   "cell_type": "code",
   "execution_count": 53,
   "metadata": {},
   "outputs": [
    {
     "data": {
      "text/plain": [
       "(0.8333333333333334, 0.16666666666666666)"
      ]
     },
     "execution_count": 53,
     "metadata": {},
     "output_type": "execute_result"
    }
   ],
   "source": [
    "opt_prob(1.5, \"left\")"
   ]
  },
  {
   "cell_type": "code",
   "execution_count": 55,
   "metadata": {},
   "outputs": [
    {
     "data": {
      "text/plain": [
       "(0.0, 1.0)"
      ]
     },
     "execution_count": 55,
     "metadata": {},
     "output_type": "execute_result"
    }
   ],
   "source": [
    "opt_prob(2, \"right\")"
   ]
  },
  {
   "cell_type": "markdown",
   "metadata": {},
   "source": [
    "# Model: Decision stump ensembel"
   ]
  },
  {
   "cell_type": "code",
   "execution_count": 10,
   "metadata": {},
   "outputs": [],
   "source": [
    "model = RandomForestClassifier(max_depth=1, n_estimators=3, random_state=seed)\n",
    "model.fit(x_train, y_train)\n",
    "predictions_x_test = model.predict(x_test)\n",
    "prob_x_test = model.predict_proba(x_test)\n",
    "prob_x_calib = model.predict_proba(x_calib)"
   ]
  },
  {
   "cell_type": "markdown",
   "metadata": {},
   "source": [
    "# Member calibration"
   ]
  },
  {
   "cell_type": "code",
   "execution_count": 5,
   "metadata": {},
   "outputs": [
    {
     "name": "stderr",
     "output_type": "stream",
     "text": [
      "WARNING:absl:No GPU/TPU found, falling back to CPU. (Set TF_CPP_MIN_LOG_LEVEL=0 and rerun for more info.)\n"
     ]
    },
    {
     "name": "stdout",
     "output_type": "stream",
     "text": [
      "Tree [0] threshold 1.2514901757240295\n",
      "Normal          ECE 0.11296296296296299  [0.03703704 1.        ]\n",
      "calibration iso ECE 0.17500000000000002  [0.21428571 1.        ]\n",
      "calibration dir ECE 0.17988909058418898  [0.22825454 1.        ]\n",
      "optimal prob  [0.21404221294150183, 0.8995237115710741]\n",
      "------------------------------------\n",
      "Tree [1] threshold 1.6921833753585815\n",
      "Normal          ECE 0.15000000000000002  [0.         0.90322581]\n",
      "calibration iso ECE 0.23888888888888893  [0.22222222 0.63636364]\n",
      "calibration dir ECE 0.15  [1.47238342e-104 7.34749795e-001]\n",
      "optimal prob  [0.11768340409566846, 0.7954762511445]\n",
      "------------------------------------\n",
      "Tree [2] threshold 1.7407686710357666\n",
      "Normal          ECE 0.10357142857142856  [0.         0.92857143]\n",
      "calibration iso ECE 0.19780219780219782  [0.14285714 0.61538462]\n",
      "calibration dir ECE 0.11173947009209748  [1.47238342e-104 7.65210598e-001]\n",
      "optimal prob  [0.10293236953430207, 0.7872294339387998]\n",
      "------------------------------------\n"
     ]
    },
    {
     "data": {
      "text/plain": [
       "[<matplotlib.lines.Line2D at 0x7f934c550040>,\n",
       " <matplotlib.lines.Line2D at 0x7f934c5500a0>]"
      ]
     },
     "execution_count": 5,
     "metadata": {},
     "output_type": "execute_result"
    },
    {
     "data": {
      "image/png": "[encoded data removed]",
      "text/plain": [
       "<Figure size 2400x240 with 1 Axes>"
      ]
     },
     "metadata": {
      "needs_background": "light"
     },
     "output_type": "display_data"
    }
   ],
   "source": [
    "figure(figsize=(30, 3), dpi=80)\n",
    "\n",
    "for est_index, estimator in enumerate(model.estimators_):\n",
    "    # tree.plot_tree(estimator)\n",
    "    tree_threshold = estimator.tree_.threshold[0]\n",
    "    tree_prob_x_test = estimator.predict_proba(x_test)\n",
    "\n",
    "    # print(tree_prob_x_test)\n",
    "    \n",
    "    print(f\"Tree [{est_index}] threshold {tree_threshold}\")\n",
    "    print(f\"Normal          ECE {calibm.confidance_ECE(tree_prob_x_test, y_test)} \", np.unique(tree_prob_x_test[:,0]))\n",
    "\n",
    "    # Full Dirichlet\n",
    "    if calibration_method == \"isotonic\":\n",
    "        model_calib = CalibratedClassifierCV(estimator, cv=\"prefit\", method=calibration_method) # cv=30\n",
    "        model_calib.fit(x_calib , y_calib)\n",
    "        tree_prob_x_test_calib = model_calib.predict_proba(x_test)\n",
    "\n",
    "        print(f\"calibration iso ECE {calibm.confidance_ECE(tree_prob_x_test_calib, y_test)} \", np.unique(tree_prob_x_test_calib[:,0]))\n",
    "\n",
    "    if calibration_method == \"Dir\":\n",
    "        skf = StratifiedKFold(n_splits=3, shuffle=True, random_state=0)\n",
    "        reg = [1e-1, 1e-2, 1e-3, 1e-4, 1e-5]\n",
    "        calibrator = FullDirichletCalibrator(reg_lambda=reg, reg_mu=None)\n",
    "        dir_calib = GridSearchCV(calibrator, param_grid={'reg_lambda':  reg, 'reg_mu': [None]}, cv=skf, scoring='neg_log_loss')\n",
    "        dir_calib.fit(prob_x_calib , y_calib)\n",
    "        tree_prob_x_test_calib = dir_calib.predict_proba(tree_prob_x_test)\n",
    "        \n",
    "        print(f\"calibration dir ECE {calibm.confidance_ECE(tree_prob_x_test_calib, y_test)} \", np.unique(tree_prob_x_test_calib[:,0]))\n",
    "\n",
    "    # optimal prob\n",
    "    a = 1\n",
    "    b = tree_threshold - 1\n",
    "    c = 2 - tree_threshold\n",
    "    o_p_neg = a/(a+b) + (b * (1/2)) /(a+b)\n",
    "    o_p_pos = a/(a+c) + (c * (1/2)) /(a+c)\n",
    "    # o_p_pos = (c * (1/2))\n",
    "    print(f\"optimal prob \", [1 - o_p_pos, o_p_neg])\n",
    "    print(\"------------------------------------\")\n",
    "\n",
    "    plt.plot([tree_threshold,tree_threshold], [3,-1], c=\"blue\")\n",
    "    plt.annotate(est_index, (tree_threshold+0.01, -1))\n",
    "\n",
    "plt.scatter(x_train, np.full(len(x_train), \"Train\"), c=y_train, cmap=matplotlib.colors.ListedColormap(colors))\n",
    "# for i, txt in enumerate(np.ones(len(x_train))): # attempt to label the training data of each tree in the RF (plot works but cannot access the training subsets)\n",
    "#     plt.annotate(int(txt), (x_train[i], \"Train\"))\n",
    "\n",
    "plt.scatter(x_calib, np.full(len(x_calib), \"Calibration\"), c=y_calib, cmap=matplotlib.colors.ListedColormap(colors))\n",
    "plt.scatter(x_test, np.full(len(x_test), \"Test\"), c=y_test, cmap=matplotlib.colors.ListedColormap(colors))\n",
    "x1, y1 = [1, 1], [3, -1]\n",
    "x2, y2 = [2, 2], [3, -1]\n",
    "plt.plot(x1, y1, x2, y2, c=\"gray\")"
   ]
  },
  {
   "cell_type": "markdown",
   "metadata": {},
   "source": [
    "# Ens Calibration"
   ]
  },
  {
   "cell_type": "code",
   "execution_count": 6,
   "metadata": {},
   "outputs": [
    {
     "name": "stdout",
     "output_type": "stream",
     "text": [
      "Normal          ECE 0.09815525971439953 [0.01234568 0.32186949 0.62294476 0.94393241]\n",
      "calibration iso ECE 0.12142857142857146  [0.14285714 0.28571429 1.        ]\n",
      "calibration dir ECE 0.2070317889815329  [0.16776431 0.42266516 0.55159835 0.7873803 ]\n"
     ]
    }
   ],
   "source": [
    "print(f\"Normal          ECE {calibm.confidance_ECE(prob_x_test, y_test)} {np.unique(prob_x_test[:,0])}\")\n",
    "\n",
    "if calibration_method == \"isotonic\":\n",
    "    model_calib = CalibratedClassifierCV(model, cv=\"prefit\", method=calibration_method) # cv=30\n",
    "    model_calib.fit(x_calib , y_calib)\n",
    "    prob_x_test_calib = model_calib.predict_proba(x_test)\n",
    "\n",
    "    print(f\"calibration iso ECE {calibm.confidance_ECE(prob_x_test_calib, y_test)} \", np.unique(prob_x_test_calib[:,0]))\n",
    "\n",
    "# Full Dirichlet\n",
    "if calibration_method == \"Dir\":\n",
    "    skf = StratifiedKFold(n_splits=3, shuffle=True, random_state=0)\n",
    "    reg = [1e-1, 1e-2, 1e-3, 1e-4, 1e-5]\n",
    "    calibrator = FullDirichletCalibrator(reg_lambda=reg, reg_mu=None)\n",
    "    dir_calib = GridSearchCV(calibrator, param_grid={'reg_lambda':  reg, 'reg_mu': [None]}, cv=skf, scoring='neg_log_loss')\n",
    "    dir_calib.fit(prob_x_calib , y_calib)\n",
    "    prob_x_test_calib = dir_calib.predict_proba(prob_x_test)\n",
    "\n",
    "    print(f\"calibration dir ECE {calibm.confidance_ECE(prob_x_test_calib, y_test)} \", np.unique(prob_x_test_calib[:,0]))\n"
   ]
  },
  {
   "cell_type": "markdown",
   "metadata": {},
   "source": [
    "# ECE calculation"
   ]
  },
  {
   "cell_type": "code",
   "execution_count": 7,
   "metadata": {},
   "outputs": [
    {
     "name": "stdout",
     "output_type": "stream",
     "text": [
      "[0.09131393298059962, 0.0913139329805997]\n",
      "0.09815525971439953\n"
     ]
    }
   ],
   "source": [
    "normal_cw_ece = calibm.classwise_ECE(prob_x_test, y_test)\n",
    "normal_conf_ece = calibm.confidance_ECE(prob_x_test, y_test)\n",
    "\n",
    "print(normal_cw_ece)\n",
    "print(normal_conf_ece)"
   ]
  },
  {
   "cell_type": "markdown",
   "metadata": {},
   "source": [
    "# Uncertainty"
   ]
  },
  {
   "cell_type": "code",
   "execution_count": 8,
   "metadata": {},
   "outputs": [
    {
     "data": {
      "text/plain": [
       "array([0.28329076, 0.38982999, 0.28329076, 0.38982999, 0.28329076,\n",
       "       0.38982999, 0.28329076, 0.38982999, 0.28329076, 0.28329076,\n",
       "       0.38982999, 0.44629561, 0.28329076, 0.28329076, 0.44629561,\n",
       "       0.28329076, 0.44629561, 0.28329076, 0.3347869 , 0.28329076])"
      ]
     },
     "execution_count": 8,
     "metadata": {},
     "output_type": "execute_result"
    }
   ],
   "source": [
    "# unc Q id\n",
    "tu, eu, au = unc.model_uncertainty(model, x_test, x_train, y_train)\n",
    "tumc, eumc, aumc, porb_matrix = unc.calib_ens_member_uncertainty(model, x_test, y_test, x_train, y_train, x_calib, y_calib, calibration_method, seed)\n",
    "tuc = unc.calib_ens_total_uncertainty(prob_x_test_calib)"
   ]
  },
  {
   "cell_type": "code",
   "execution_count": 14,
   "metadata": {},
   "outputs": [
    {
     "data": {
      "text/plain": [
       "0.8627450980392156"
      ]
     },
     "execution_count": 14,
     "metadata": {},
     "output_type": "execute_result"
    }
   ],
   "source": [
    "uncM.unc_auroc(predictions_x_test, y_test, au)"
   ]
  },
  {
   "cell_type": "code",
   "execution_count": 15,
   "metadata": {},
   "outputs": [
    {
     "data": {
      "text/plain": [
       "0.9607843137254902"
      ]
     },
     "execution_count": 15,
     "metadata": {},
     "output_type": "execute_result"
    }
   ],
   "source": [
    "uncM.unc_auroc(predictions_x_test, y_test, aumc)"
   ]
  }
 ],
 "metadata": {
  "kernelspec": {
   "display_name": "Python 3.8.10 ('Calibration-6g0BSw3E')",
   "language": "python",
   "name": "python3"
  },
  "language_info": {
   "codemirror_mode": {
    "name": "ipython",
    "version": 3
   },
   "file_extension": ".py",
   "mimetype": "text/x-python",
   "name": "python",
   "nbconvert_exporter": "python",
   "pygments_lexer": "ipython3",
   "version": "3.8.10"
  },
  "orig_nbformat": 4,
  "vscode": {
   "interpreter": {
    "hash": "8c50fe48504b01d5b6c186191f0c606873c2a89e6c6e4550beb359d9d6e610fa"
   }
  }
 },
 "nbformat": 4,
 "nbformat_minor": 2
}
