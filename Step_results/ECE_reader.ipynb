{
 "cells": [
  {
   "cell_type": "code",
   "execution_count": 13,
   "metadata": {},
   "outputs": [],
   "source": [
    "import numpy as np\n",
    "import matplotlib.pyplot as plt\n",
    "import seaborn as sns\n",
    "import pandas as pd"
   ]
  },
  {
   "cell_type": "code",
   "execution_count": 14,
   "metadata": {},
   "outputs": [
    {
     "name": "stdout",
     "output_type": "stream",
     "text": [
      "------------------------------------ ens\n",
      "Ens normal_cw_ece \n",
      " [0.00685395 0.01015669 0.02045876 0.0194689  0.02843588 0.02008855\n",
      " 0.02730953 0.0135765  0.01343385 0.01015331]\n"
     ]
    }
   ],
   "source": [
    "with open('res_array_all.npy', 'rb') as f:\n",
    "    res_array_all = np.load(f, allow_pickle=True) \n",
    "    # print(res_array_all)\n",
    "    # print(\"------------------------------------\")\n",
    "\n",
    "normal_cw_ece = np.array(res_array_all[:,-3])\n",
    "a_normal_cw_ece = []\n",
    "for i in normal_cw_ece:\n",
    "    a_normal_cw_ece.append(i)\n",
    "normal_cw_ece = np.array(a_normal_cw_ece)\n",
    "\n",
    "sk_iso_cw_ece = np.array(res_array_all[:,-2])\n",
    "a_sk_iso_cw_ece = []\n",
    "for i in sk_iso_cw_ece:\n",
    "    a_sk_iso_cw_ece.append(i)\n",
    "sk_iso_cw_ece = np.array(a_sk_iso_cw_ece)\n",
    "\n",
    "dir_cw_ece    = np.array(res_array_all[:,-1])\n",
    "a_dir_cw_ece = []\n",
    "for i in dir_cw_ece:\n",
    "    a_dir_cw_ece.append(i)\n",
    "dir_cw_ece = np.array(a_dir_cw_ece)\n",
    "\n",
    "\n",
    "print(\"------------------------------------ ens\")\n",
    "# each row is a run of the ensemble\n",
    "# colomn is ens ECE values for a class\n",
    "\n",
    "print(\"Ens normal_cw_ece \\n\", normal_cw_ece[0])\n",
    "# print(\"Ens sk_iso_cw_ece \\n\", sk_iso_cw_ece.mean(axis=0).sum())\n",
    "# print(\"Ens dir_cw_ece \\n\", dir_cw_ece.mean(axis=0).sum())"
   ]
  },
  {
   "cell_type": "code",
   "execution_count": 15,
   "metadata": {},
   "outputs": [
    {
     "name": "stdout",
     "output_type": "stream",
     "text": [
      "------------------------------------ members \n"
     ]
    }
   ],
   "source": [
    "print(\"------------------------------------ members \")\n",
    "# each row is a member of the ensemble\n",
    "# colomn is member ECE values for a class\n",
    "\n",
    "main_df = pd.DataFrame(columns=['run','member','Class','ECE'])\n",
    "\n",
    "for run_index in range(10):\n",
    "    with open(f\"mem_run{run_index}_normal_cw_ece.npy\", 'rb') as f:\n",
    "        raw_data = np.load(f, allow_pickle=True) \n",
    "        # print(raw_data)\n",
    "\n",
    "        # convert all member data into DataFrame with coloms 'run','member','Class','ECE'\n",
    "        for mem_index, member_raw in enumerate(raw_data):\n",
    "            # print(member_raw)\n",
    "            # print(mem_index)\n",
    "            # print(\"------------------------------------\")\n",
    "            member_data = ({\n",
    "            'run': np.full(len(member_raw), run_index),\n",
    "            'member' :np.full(len(member_raw), mem_index),\n",
    "            'Class': range(10),\n",
    "            'ECE': member_raw\n",
    "            })\n",
    "\n",
    "            df = pd.DataFrame(member_data)\n",
    "            main_df = pd.concat([main_df, df])"
   ]
  },
  {
   "cell_type": "code",
   "execution_count": 16,
   "metadata": {},
   "outputs": [
    {
     "data": {
      "image/png": "[encoded data removed]",
      "text/plain": [
       "<Figure size 432x288 with 1 Axes>"
      ]
     },
     "metadata": {
      "needs_background": "light"
     },
     "output_type": "display_data"
    }
   ],
   "source": [
    "ax = sns.boxplot(x=\"Class\", y=\"ECE\", data=main_df)"
   ]
  }
 ],
 "metadata": {
  "kernelspec": {
   "display_name": "Python 3.8.10 ('Calibration-6g0BSw3E')",
   "language": "python",
   "name": "python3"
  },
  "language_info": {
   "codemirror_mode": {
    "name": "ipython",
    "version": 3
   },
   "file_extension": ".py",
   "mimetype": "text/x-python",
   "name": "python",
   "nbconvert_exporter": "python",
   "pygments_lexer": "ipython3",
   "version": "3.8.10"
  },
  "orig_nbformat": 4,
  "vscode": {
   "interpreter": {
    "hash": "8c50fe48504b01d5b6c186191f0c606873c2a89e6c6e4550beb359d9d6e610fa"
   }
  }
 },
 "nbformat": 4,
 "nbformat_minor": 2
}
